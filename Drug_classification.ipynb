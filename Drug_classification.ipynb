{
  "nbformat": 4,
  "nbformat_minor": 0,
  "metadata": {
    "kernelspec": {
      "display_name": "Python 3",
      "language": "python",
      "name": "python3"
    },
    "language_info": {
      "codemirror_mode": {
        "name": "ipython",
        "version": 3
      },
      "file_extension": ".py",
      "mimetype": "text/x-python",
      "name": "python",
      "nbconvert_exporter": "python",
      "pygments_lexer": "ipython3",
      "version": "3.7.9"
    },
    "papermill": {
      "default_parameters": {},
      "duration": 13.178079,
      "end_time": "2021-03-05T04:25:02.898117",
      "environment_variables": {},
      "exception": null,
      "input_path": "__notebook__.ipynb",
      "output_path": "__notebook__.ipynb",
      "parameters": {},
      "start_time": "2021-03-05T04:24:49.720038",
      "version": "2.2.2"
    },
    "colab": {
      "name": "Drug-classification.ipynb",
      "provenance": [],
      "collapsed_sections": [],
      "toc_visible": true,
      "include_colab_link": true
    }
  },
  "cells": [
    {
      "cell_type": "markdown",
      "metadata": {
        "id": "view-in-github",
        "colab_type": "text"
      },
      "source": [
        "<a href=\"https://colab.research.google.com/github/ChandanCharchit/Projects/blob/main/Drug_classification.ipynb\" target=\"_parent\"><img src=\"https://colab.research.google.com/assets/colab-badge.svg\" alt=\"Open In Colab\"/></a>"
      ]
    },
    {
      "cell_type": "code",
      "metadata": {
        "_cell_guid": "b1076dfc-b9ad-4769-8c92-a6c4dae69d19",
        "_uuid": "8f2839f25d086af736a60e9eeb907d3b93b6e0e5",
        "execution": {
          "iopub.execute_input": "2021-03-05T04:24:55.464796Z",
          "iopub.status.busy": "2021-03-05T04:24:55.464119Z",
          "iopub.status.idle": "2021-03-05T04:24:55.479658Z",
          "shell.execute_reply": "2021-03-05T04:24:55.478385Z"
        },
        "papermill": {
          "duration": 0.047023,
          "end_time": "2021-03-05T04:24:55.479931",
          "exception": false,
          "start_time": "2021-03-05T04:24:55.432908",
          "status": "completed"
        },
        "tags": [],
        "id": "Nj8Fe0lVQsS8"
      },
      "source": [
        "\n",
        "import numpy as np\n",
        "import pandas as pd\n",
        "\n",
        "\n",
        "\n",
        "import os\n",
        "for dirname, _, filenames in os.walk('/content/drug200.csv'):\n",
        "    for filename in filenames:\n",
        "        print(os.path.join(dirname, filename))\n",
        "\n"
      ],
      "execution_count": 1,
      "outputs": []
    },
    {
      "cell_type": "markdown",
      "metadata": {
        "papermill": {
          "duration": 0.024054,
          "end_time": "2021-03-05T04:24:55.529222",
          "exception": false,
          "start_time": "2021-03-05T04:24:55.505168",
          "status": "completed"
        },
        "tags": [],
        "id": "mRuYSkUBQsTF"
      },
      "source": [
        "* Drug Classification.\n",
        "Project goal: \n",
        "To create a model capable of determining which drug type a patient should be prescirbed based on a number of features, uing a variety of classification algorithms. "
      ]
    },
    {
      "cell_type": "markdown",
      "metadata": {
        "papermill": {
          "duration": 0.023378,
          "end_time": "2021-03-05T04:24:55.576301",
          "exception": false,
          "start_time": "2021-03-05T04:24:55.552923",
          "status": "completed"
        },
        "tags": [],
        "id": "Rkb0YgGvQsTF"
      },
      "source": [
        "# 1. Imports"
      ]
    },
    {
      "cell_type": "code",
      "metadata": {
        "execution": {
          "iopub.execute_input": "2021-03-05T04:24:55.630091Z",
          "iopub.status.busy": "2021-03-05T04:24:55.629235Z",
          "iopub.status.idle": "2021-03-05T04:24:57.121833Z",
          "shell.execute_reply": "2021-03-05T04:24:57.121194Z"
        },
        "papermill": {
          "duration": 1.520755,
          "end_time": "2021-03-05T04:24:57.121972",
          "exception": false,
          "start_time": "2021-03-05T04:24:55.601217",
          "status": "completed"
        },
        "tags": [],
        "id": "qO6pfhf7QsTF",
        "outputId": "9659e383-233c-450e-9707-0d89d2b6d254",
        "colab": {
          "base_uri": "https://localhost:8080/"
        }
      },
      "source": [
        "import pandas as pd \n",
        "import seaborn as sns\n",
        "from sklearn.preprocessing import LabelEncoder\n",
        "from sklearn.model_selection import train_test_split\n",
        "from imblearn.over_sampling import SMOTE\n",
        "from sklearn import linear_model, naive_bayes, neighbors, svm"
      ],
      "execution_count": 2,
      "outputs": [
        {
          "output_type": "stream",
          "text": [
            "/usr/local/lib/python3.7/dist-packages/sklearn/externals/six.py:31: FutureWarning: The module is deprecated in version 0.21 and will be removed in version 0.23 since we've dropped support for Python 2.7. Please rely on the official version of six (https://pypi.org/project/six/).\n",
            "  \"(https://pypi.org/project/six/).\", FutureWarning)\n",
            "/usr/local/lib/python3.7/dist-packages/sklearn/utils/deprecation.py:144: FutureWarning: The sklearn.neighbors.base module is  deprecated in version 0.22 and will be removed in version 0.24. The corresponding classes / functions should instead be imported from sklearn.neighbors. Anything that cannot be imported from sklearn.neighbors is now part of the private API.\n",
            "  warnings.warn(message, FutureWarning)\n"
          ],
          "name": "stderr"
        }
      ]
    },
    {
      "cell_type": "code",
      "metadata": {
        "execution": {
          "iopub.execute_input": "2021-03-05T04:24:57.174310Z",
          "iopub.status.busy": "2021-03-05T04:24:57.173751Z",
          "iopub.status.idle": "2021-03-05T04:24:57.216370Z",
          "shell.execute_reply": "2021-03-05T04:24:57.216889Z"
        },
        "papermill": {
          "duration": 0.071392,
          "end_time": "2021-03-05T04:24:57.217105",
          "exception": false,
          "start_time": "2021-03-05T04:24:57.145713",
          "status": "completed"
        },
        "tags": [],
        "id": "90wp7btkQsTG",
        "outputId": "d2bd02fb-c58e-4691-ab08-40bd0e63f3fc",
        "colab": {
          "base_uri": "https://localhost:8080/",
          "height": 202
        }
      },
      "source": [
        "drugs = pd.read_csv('/content/drug200.csv')\n",
        "drugs.head()"
      ],
      "execution_count": 3,
      "outputs": [
        {
          "output_type": "execute_result",
          "data": {
            "text/html": [
              "<div>\n",
              "<style scoped>\n",
              "    .dataframe tbody tr th:only-of-type {\n",
              "        vertical-align: middle;\n",
              "    }\n",
              "\n",
              "    .dataframe tbody tr th {\n",
              "        vertical-align: top;\n",
              "    }\n",
              "\n",
              "    .dataframe thead th {\n",
              "        text-align: right;\n",
              "    }\n",
              "</style>\n",
              "<table border=\"1\" class=\"dataframe\">\n",
              "  <thead>\n",
              "    <tr style=\"text-align: right;\">\n",
              "      <th></th>\n",
              "      <th>Age</th>\n",
              "      <th>Sex</th>\n",
              "      <th>BP</th>\n",
              "      <th>Cholesterol</th>\n",
              "      <th>Na_to_K</th>\n",
              "      <th>Drug</th>\n",
              "    </tr>\n",
              "  </thead>\n",
              "  <tbody>\n",
              "    <tr>\n",
              "      <th>0</th>\n",
              "      <td>23</td>\n",
              "      <td>F</td>\n",
              "      <td>HIGH</td>\n",
              "      <td>HIGH</td>\n",
              "      <td>25.355</td>\n",
              "      <td>DrugY</td>\n",
              "    </tr>\n",
              "    <tr>\n",
              "      <th>1</th>\n",
              "      <td>47</td>\n",
              "      <td>M</td>\n",
              "      <td>LOW</td>\n",
              "      <td>HIGH</td>\n",
              "      <td>13.093</td>\n",
              "      <td>drugC</td>\n",
              "    </tr>\n",
              "    <tr>\n",
              "      <th>2</th>\n",
              "      <td>47</td>\n",
              "      <td>M</td>\n",
              "      <td>LOW</td>\n",
              "      <td>HIGH</td>\n",
              "      <td>10.114</td>\n",
              "      <td>drugC</td>\n",
              "    </tr>\n",
              "    <tr>\n",
              "      <th>3</th>\n",
              "      <td>28</td>\n",
              "      <td>F</td>\n",
              "      <td>NORMAL</td>\n",
              "      <td>HIGH</td>\n",
              "      <td>7.798</td>\n",
              "      <td>drugX</td>\n",
              "    </tr>\n",
              "    <tr>\n",
              "      <th>4</th>\n",
              "      <td>61</td>\n",
              "      <td>F</td>\n",
              "      <td>LOW</td>\n",
              "      <td>HIGH</td>\n",
              "      <td>18.043</td>\n",
              "      <td>DrugY</td>\n",
              "    </tr>\n",
              "  </tbody>\n",
              "</table>\n",
              "</div>"
            ],
            "text/plain": [
              "   Age Sex      BP Cholesterol  Na_to_K   Drug\n",
              "0   23   F    HIGH        HIGH   25.355  DrugY\n",
              "1   47   M     LOW        HIGH   13.093  drugC\n",
              "2   47   M     LOW        HIGH   10.114  drugC\n",
              "3   28   F  NORMAL        HIGH    7.798  drugX\n",
              "4   61   F     LOW        HIGH   18.043  DrugY"
            ]
          },
          "metadata": {
            "tags": []
          },
          "execution_count": 3
        }
      ]
    },
    {
      "cell_type": "markdown",
      "metadata": {
        "papermill": {
          "duration": 0.024123,
          "end_time": "2021-03-05T04:24:57.265422",
          "exception": false,
          "start_time": "2021-03-05T04:24:57.241299",
          "status": "completed"
        },
        "tags": [],
        "id": "fAreCa-3QsTG"
      },
      "source": [
        "the variable descriptions are as follows:\n",
        "\n",
        "-Age: Age of the patient in years\n",
        "\n",
        "-Sex: Sex of the patient- male or female \n",
        "\n",
        "-BP: Blood Pressure of patient-high, low, or normal \n",
        "\n",
        "-Cholesterol-Cholesterol level of the patient- normal or high\n",
        "\n",
        "-Na-to_K: Sodium to Potassium ratio in patient's blood \n",
        "\n",
        "-Drug: The drug type that the patient was prescirbed- drugA,drugB,drugC,drugX or drugY"
      ]
    },
    {
      "cell_type": "markdown",
      "metadata": {
        "papermill": {
          "duration": 0.024192,
          "end_time": "2021-03-05T04:24:57.314275",
          "exception": false,
          "start_time": "2021-03-05T04:24:57.290083",
          "status": "completed"
        },
        "tags": [],
        "id": "OaVeTQEbQsTG"
      },
      "source": [
        " # 2.Grouping data"
      ]
    },
    {
      "cell_type": "markdown",
      "metadata": {
        "papermill": {
          "duration": 0.025305,
          "end_time": "2021-03-05T04:24:57.364032",
          "exception": false,
          "start_time": "2021-03-05T04:24:57.338727",
          "status": "completed"
        },
        "tags": [],
        "id": "OH_24y9xQsTG"
      },
      "source": [
        "we will group the Age and Sodium to Potassium Ratio(Na_to_K)values, depending on the max and min values in each column. Let's have a look at their distributions. "
      ]
    },
    {
      "cell_type": "code",
      "metadata": {
        "execution": {
          "iopub.execute_input": "2021-03-05T04:24:57.419764Z",
          "iopub.status.busy": "2021-03-05T04:24:57.419132Z",
          "iopub.status.idle": "2021-03-05T04:24:57.659612Z",
          "shell.execute_reply": "2021-03-05T04:24:57.659057Z"
        },
        "papermill": {
          "duration": 0.27094,
          "end_time": "2021-03-05T04:24:57.659766",
          "exception": false,
          "start_time": "2021-03-05T04:24:57.388826",
          "status": "completed"
        },
        "tags": [],
        "id": "isRK8bQWQsTH",
        "outputId": "e9bdccc7-ce81-4f31-ff85-8a9836fa64c2",
        "colab": {
          "base_uri": "https://localhost:8080/",
          "height": 351
        }
      },
      "source": [
        "sns.distplot(drugs['Age'])"
      ],
      "execution_count": 4,
      "outputs": [
        {
          "output_type": "stream",
          "text": [
            "/usr/local/lib/python3.7/dist-packages/seaborn/distributions.py:2557: FutureWarning: `distplot` is a deprecated function and will be removed in a future version. Please adapt your code to use either `displot` (a figure-level function with similar flexibility) or `histplot` (an axes-level function for histograms).\n",
            "  warnings.warn(msg, FutureWarning)\n"
          ],
          "name": "stderr"
        },
        {
          "output_type": "execute_result",
          "data": {
            "text/plain": [
              "<matplotlib.axes._subplots.AxesSubplot at 0x7f8fd1e49610>"
            ]
          },
          "metadata": {
            "tags": []
          },
          "execution_count": 4
        },
        {
          "output_type": "display_data",
          "data": {
            "image/png": "[encoded data removed]",
            "text/plain": [
              "<Figure size 432x288 with 1 Axes>"
            ]
          },
          "metadata": {
            "tags": [],
            "needs_background": "light"
          }
        }
      ]
    },
    {
      "cell_type": "code",
      "metadata": {
        "execution": {
          "iopub.execute_input": "2021-03-05T04:24:57.727775Z",
          "iopub.status.busy": "2021-03-05T04:24:57.717680Z",
          "iopub.status.idle": "2021-03-05T04:24:57.888632Z",
          "shell.execute_reply": "2021-03-05T04:24:57.888027Z"
        },
        "papermill": {
          "duration": 0.202802,
          "end_time": "2021-03-05T04:24:57.888786",
          "exception": false,
          "start_time": "2021-03-05T04:24:57.685984",
          "status": "completed"
        },
        "tags": [],
        "id": "iaJs70PAQsTH",
        "outputId": "34902c9f-95c0-41f1-a8d8-89797630bbec",
        "colab": {
          "base_uri": "https://localhost:8080/",
          "height": 352
        }
      },
      "source": [
        "sns.distplot(drugs['Na_to_K'])"
      ],
      "execution_count": 5,
      "outputs": [
        {
          "output_type": "stream",
          "text": [
            "/usr/local/lib/python3.7/dist-packages/seaborn/distributions.py:2557: FutureWarning: `distplot` is a deprecated function and will be removed in a future version. Please adapt your code to use either `displot` (a figure-level function with similar flexibility) or `histplot` (an axes-level function for histograms).\n",
            "  warnings.warn(msg, FutureWarning)\n"
          ],
          "name": "stderr"
        },
        {
          "output_type": "execute_result",
          "data": {
            "text/plain": [
              "<matplotlib.axes._subplots.AxesSubplot at 0x7f8fcf2c7510>"
            ]
          },
          "metadata": {
            "tags": []
          },
          "execution_count": 5
        },
        {
          "output_type": "display_data",
          "data": {
            "image/png": "[encoded data removed]",
            "text/plain": [
              "<Figure size 432x288 with 1 Axes>"
            ]
          },
          "metadata": {
            "tags": [],
            "needs_background": "light"
          }
        }
      ]
    },
    {
      "cell_type": "code",
      "metadata": {
        "execution": {
          "iopub.execute_input": "2021-03-05T04:24:57.952365Z",
          "iopub.status.busy": "2021-03-05T04:24:57.951728Z",
          "iopub.status.idle": "2021-03-05T04:24:57.966068Z",
          "shell.execute_reply": "2021-03-05T04:24:57.965434Z"
        },
        "papermill": {
          "duration": 0.049393,
          "end_time": "2021-03-05T04:24:57.966207",
          "exception": false,
          "start_time": "2021-03-05T04:24:57.916814",
          "status": "completed"
        },
        "tags": [],
        "id": "rCtTyu1oQsTH",
        "outputId": "23e694ae-4216-4d13-c28e-8dbc8c5830ad",
        "colab": {
          "base_uri": "https://localhost:8080/",
          "height": 294
        }
      },
      "source": [
        "drugs.describe()"
      ],
      "execution_count": 6,
      "outputs": [
        {
          "output_type": "execute_result",
          "data": {
            "text/html": [
              "<div>\n",
              "<style scoped>\n",
              "    .dataframe tbody tr th:only-of-type {\n",
              "        vertical-align: middle;\n",
              "    }\n",
              "\n",
              "    .dataframe tbody tr th {\n",
              "        vertical-align: top;\n",
              "    }\n",
              "\n",
              "    .dataframe thead th {\n",
              "        text-align: right;\n",
              "    }\n",
              "</style>\n",
              "<table border=\"1\" class=\"dataframe\">\n",
              "  <thead>\n",
              "    <tr style=\"text-align: right;\">\n",
              "      <th></th>\n",
              "      <th>Age</th>\n",
              "      <th>Na_to_K</th>\n",
              "    </tr>\n",
              "  </thead>\n",
              "  <tbody>\n",
              "    <tr>\n",
              "      <th>count</th>\n",
              "      <td>200.000000</td>\n",
              "      <td>200.000000</td>\n",
              "    </tr>\n",
              "    <tr>\n",
              "      <th>mean</th>\n",
              "      <td>44.315000</td>\n",
              "      <td>16.084485</td>\n",
              "    </tr>\n",
              "    <tr>\n",
              "      <th>std</th>\n",
              "      <td>16.544315</td>\n",
              "      <td>7.223956</td>\n",
              "    </tr>\n",
              "    <tr>\n",
              "      <th>min</th>\n",
              "      <td>15.000000</td>\n",
              "      <td>6.269000</td>\n",
              "    </tr>\n",
              "    <tr>\n",
              "      <th>25%</th>\n",
              "      <td>31.000000</td>\n",
              "      <td>10.445500</td>\n",
              "    </tr>\n",
              "    <tr>\n",
              "      <th>50%</th>\n",
              "      <td>45.000000</td>\n",
              "      <td>13.936500</td>\n",
              "    </tr>\n",
              "    <tr>\n",
              "      <th>75%</th>\n",
              "      <td>58.000000</td>\n",
              "      <td>19.380000</td>\n",
              "    </tr>\n",
              "    <tr>\n",
              "      <th>max</th>\n",
              "      <td>74.000000</td>\n",
              "      <td>38.247000</td>\n",
              "    </tr>\n",
              "  </tbody>\n",
              "</table>\n",
              "</div>"
            ],
            "text/plain": [
              "              Age     Na_to_K\n",
              "count  200.000000  200.000000\n",
              "mean    44.315000   16.084485\n",
              "std     16.544315    7.223956\n",
              "min     15.000000    6.269000\n",
              "25%     31.000000   10.445500\n",
              "50%     45.000000   13.936500\n",
              "75%     58.000000   19.380000\n",
              "max     74.000000   38.247000"
            ]
          },
          "metadata": {
            "tags": []
          },
          "execution_count": 6
        }
      ]
    },
    {
      "cell_type": "markdown",
      "metadata": {
        "papermill": {
          "duration": 0.029575,
          "end_time": "2021-03-05T04:24:58.024938",
          "exception": false,
          "start_time": "2021-03-05T04:24:57.995363",
          "status": "completed"
        },
        "tags": [],
        "id": "QsvvpH9TQsTI"
      },
      "source": [
        "We can see here that the minimum and maximum ages are 15 and 74 respectively and the minimum and maximum sodium to potassium ratios are 6.269 and 38.247 respectively."
      ]
    },
    {
      "cell_type": "markdown",
      "metadata": {
        "papermill": {
          "duration": 0.02891,
          "end_time": "2021-03-05T04:24:58.082867",
          "exception": false,
          "start_time": "2021-03-05T04:24:58.053957",
          "status": "completed"
        },
        "tags": [],
        "id": "knFDmAikQsTI"
      },
      "source": [
        "> **Age groups:** \n",
        "* under 30s\n",
        "* 30-40\n",
        "* 40-50\n",
        "* 50-60\n",
        "* Over 60s\n"
      ]
    },
    {
      "cell_type": "markdown",
      "metadata": {
        "papermill": {
          "duration": 0.028485,
          "end_time": "2021-03-05T04:24:58.140596",
          "exception": false,
          "start_time": "2021-03-05T04:24:58.112111",
          "status": "completed"
        },
        "tags": [],
        "id": "__yc0bJ6QsTI"
      },
      "source": [
        "> **Sodium to Potassium ratios:**\n",
        "* 5-10\n",
        "* 10-15\n",
        "* 15-20\n",
        "* 20-25\n",
        "* 25-30\n",
        "* 30+"
      ]
    },
    {
      "cell_type": "code",
      "metadata": {
        "execution": {
          "iopub.execute_input": "2021-03-05T04:24:58.206340Z",
          "iopub.status.busy": "2021-03-05T04:24:58.205387Z",
          "iopub.status.idle": "2021-03-05T04:24:58.208702Z",
          "shell.execute_reply": "2021-03-05T04:24:58.208214Z"
        },
        "papermill": {
          "duration": 0.039457,
          "end_time": "2021-03-05T04:24:58.208841",
          "exception": false,
          "start_time": "2021-03-05T04:24:58.169384",
          "status": "completed"
        },
        "tags": [],
        "id": "AnfIRazcQsTI"
      },
      "source": [
        "age_groups = []\n",
        "for i in drugs['Age']:\n",
        "    if i <= 30:\n",
        "        age_groups.append('0-30')\n",
        "    if i > 30 and i <= 40:\n",
        "        age_groups.append('30-40')\n",
        "    if i > 40 and i <= 50:\n",
        "        age_groups.append('40-50')\n",
        "    if i > 50 and i <= 60:\n",
        "        age_groups.append('50-60')\n",
        "    if i > 60:\n",
        "        age_groups.append('60+')\n",
        "\n",
        "drugs['AgeGroup'] = age_groups"
      ],
      "execution_count": 7,
      "outputs": []
    },
    {
      "cell_type": "code",
      "metadata": {
        "execution": {
          "iopub.execute_input": "2021-03-05T04:24:58.274663Z",
          "iopub.status.busy": "2021-03-05T04:24:58.273890Z",
          "iopub.status.idle": "2021-03-05T04:24:58.276907Z",
          "shell.execute_reply": "2021-03-05T04:24:58.277525Z"
        },
        "papermill": {
          "duration": 0.040043,
          "end_time": "2021-03-05T04:24:58.277706",
          "exception": false,
          "start_time": "2021-03-05T04:24:58.237663",
          "status": "completed"
        },
        "tags": [],
        "id": "LxFUErbIQsTI"
      },
      "source": [
        "na_to_k_groups = []\n",
        "for i in drugs[\"Na_to_K\"]:\n",
        "    if i <= 10:\n",
        "        na_to_k_groups.append('5-10')\n",
        "    if i > 10 and i <= 15:\n",
        "        na_to_k_groups.append('10-15')\n",
        "    if i > 15 and i <= 20:\n",
        "        na_to_k_groups.append('15-20')\n",
        "    if i > 20 and i <= 25:\n",
        "        na_to_k_groups.append('20-25')\n",
        "    if i > 25 and i <= 30:\n",
        "        na_to_k_groups.append('25-30')\n",
        "    if i > 30:\n",
        "        na_to_k_groups.append('30+')\n",
        "\n",
        "drugs['Na_to_K_groups'] = na_to_k_groups"
      ],
      "execution_count": 8,
      "outputs": []
    },
    {
      "cell_type": "code",
      "metadata": {
        "execution": {
          "iopub.execute_input": "2021-03-05T04:24:58.338370Z",
          "iopub.status.busy": "2021-03-05T04:24:58.337767Z",
          "iopub.status.idle": "2021-03-05T04:24:58.352482Z",
          "shell.execute_reply": "2021-03-05T04:24:58.352955Z"
        },
        "papermill": {
          "duration": 0.046839,
          "end_time": "2021-03-05T04:24:58.353119",
          "exception": false,
          "start_time": "2021-03-05T04:24:58.306280",
          "status": "completed"
        },
        "tags": [],
        "id": "Ol2yN6XWQsTI",
        "outputId": "0dbb3b95-673a-4c3e-bfee-6e57c6cdb128",
        "colab": {
          "base_uri": "https://localhost:8080/",
          "height": 202
        }
      },
      "source": [
        "drugs = drugs[['AgeGroup','Sex','BP','Cholesterol','Na_to_K_groups','Drug']]\n",
        "drugs.head()"
      ],
      "execution_count": 9,
      "outputs": [
        {
          "output_type": "execute_result",
          "data": {
            "text/html": [
              "<div>\n",
              "<style scoped>\n",
              "    .dataframe tbody tr th:only-of-type {\n",
              "        vertical-align: middle;\n",
              "    }\n",
              "\n",
              "    .dataframe tbody tr th {\n",
              "        vertical-align: top;\n",
              "    }\n",
              "\n",
              "    .dataframe thead th {\n",
              "        text-align: right;\n",
              "    }\n",
              "</style>\n",
              "<table border=\"1\" class=\"dataframe\">\n",
              "  <thead>\n",
              "    <tr style=\"text-align: right;\">\n",
              "      <th></th>\n",
              "      <th>AgeGroup</th>\n",
              "      <th>Sex</th>\n",
              "      <th>BP</th>\n",
              "      <th>Cholesterol</th>\n",
              "      <th>Na_to_K_groups</th>\n",
              "      <th>Drug</th>\n",
              "    </tr>\n",
              "  </thead>\n",
              "  <tbody>\n",
              "    <tr>\n",
              "      <th>0</th>\n",
              "      <td>0-30</td>\n",
              "      <td>F</td>\n",
              "      <td>HIGH</td>\n",
              "      <td>HIGH</td>\n",
              "      <td>25-30</td>\n",
              "      <td>DrugY</td>\n",
              "    </tr>\n",
              "    <tr>\n",
              "      <th>1</th>\n",
              "      <td>40-50</td>\n",
              "      <td>M</td>\n",
              "      <td>LOW</td>\n",
              "      <td>HIGH</td>\n",
              "      <td>10-15</td>\n",
              "      <td>drugC</td>\n",
              "    </tr>\n",
              "    <tr>\n",
              "      <th>2</th>\n",
              "      <td>40-50</td>\n",
              "      <td>M</td>\n",
              "      <td>LOW</td>\n",
              "      <td>HIGH</td>\n",
              "      <td>10-15</td>\n",
              "      <td>drugC</td>\n",
              "    </tr>\n",
              "    <tr>\n",
              "      <th>3</th>\n",
              "      <td>0-30</td>\n",
              "      <td>F</td>\n",
              "      <td>NORMAL</td>\n",
              "      <td>HIGH</td>\n",
              "      <td>5-10</td>\n",
              "      <td>drugX</td>\n",
              "    </tr>\n",
              "    <tr>\n",
              "      <th>4</th>\n",
              "      <td>60+</td>\n",
              "      <td>F</td>\n",
              "      <td>LOW</td>\n",
              "      <td>HIGH</td>\n",
              "      <td>15-20</td>\n",
              "      <td>DrugY</td>\n",
              "    </tr>\n",
              "  </tbody>\n",
              "</table>\n",
              "</div>"
            ],
            "text/plain": [
              "  AgeGroup Sex      BP Cholesterol Na_to_K_groups   Drug\n",
              "0     0-30   F    HIGH        HIGH          25-30  DrugY\n",
              "1    40-50   M     LOW        HIGH          10-15  drugC\n",
              "2    40-50   M     LOW        HIGH          10-15  drugC\n",
              "3     0-30   F  NORMAL        HIGH           5-10  drugX\n",
              "4      60+   F     LOW        HIGH          15-20  DrugY"
            ]
          },
          "metadata": {
            "tags": []
          },
          "execution_count": 9
        }
      ]
    },
    {
      "cell_type": "markdown",
      "metadata": {
        "papermill": {
          "duration": 0.029283,
          "end_time": "2021-03-05T04:24:58.412116",
          "exception": false,
          "start_time": "2021-03-05T04:24:58.382833",
          "status": "completed"
        },
        "tags": [],
        "id": "UGp4UqrJQsTJ"
      },
      "source": [
        "# 3.Visualising tha variable distributions"
      ]
    },
    {
      "cell_type": "code",
      "metadata": {
        "execution": {
          "iopub.execute_input": "2021-03-05T04:24:58.482668Z",
          "iopub.status.busy": "2021-03-05T04:24:58.481574Z",
          "iopub.status.idle": "2021-03-05T04:24:58.635579Z",
          "shell.execute_reply": "2021-03-05T04:24:58.636175Z"
        },
        "papermill": {
          "duration": 0.194402,
          "end_time": "2021-03-05T04:24:58.636345",
          "exception": false,
          "start_time": "2021-03-05T04:24:58.441943",
          "status": "completed"
        },
        "tags": [],
        "id": "RISlqCblQsTJ",
        "outputId": "0ddc9aaa-6972-442e-f98e-8967a08ef509",
        "colab": {
          "base_uri": "https://localhost:8080/",
          "height": 305
        }
      },
      "source": [
        "sns.set_theme(style=\"whitegrid\")\n",
        "sns.countplot(x=\"AgeGroup\", data=drugs, palette='Spectral', order=['0-30', '30-40', '40-50', '50-60', '60+'])"
      ],
      "execution_count": 10,
      "outputs": [
        {
          "output_type": "execute_result",
          "data": {
            "text/plain": [
              "<matplotlib.axes._subplots.AxesSubplot at 0x7f8fd1e846d0>"
            ]
          },
          "metadata": {
            "tags": []
          },
          "execution_count": 10
        },
        {
          "output_type": "display_data",
          "data": {
            "image/png": "[encoded data removed]",
            "text/plain": [
              "<Figure size 432x288 with 1 Axes>"
            ]
          },
          "metadata": {
            "tags": []
          }
        }
      ]
    },
    {
      "cell_type": "code",
      "metadata": {
        "execution": {
          "iopub.execute_input": "2021-03-05T04:24:58.723835Z",
          "iopub.status.busy": "2021-03-05T04:24:58.723155Z",
          "iopub.status.idle": "2021-03-05T04:24:58.837957Z",
          "shell.execute_reply": "2021-03-05T04:24:58.838781Z"
        },
        "papermill": {
          "duration": 0.172055,
          "end_time": "2021-03-05T04:24:58.839028",
          "exception": false,
          "start_time": "2021-03-05T04:24:58.666973",
          "status": "completed"
        },
        "tags": [],
        "id": "bxM5ffEBQsTJ",
        "outputId": "1b8fa5b5-778b-45a2-9c4a-67b3c5abc1b9",
        "colab": {
          "base_uri": "https://localhost:8080/",
          "height": 303
        }
      },
      "source": [
        "sns.countplot(x='Sex', data = drugs, palette='Spectral')"
      ],
      "execution_count": 11,
      "outputs": [
        {
          "output_type": "execute_result",
          "data": {
            "text/plain": [
              "<matplotlib.axes._subplots.AxesSubplot at 0x7f8fced902d0>"
            ]
          },
          "metadata": {
            "tags": []
          },
          "execution_count": 11
        },
        {
          "output_type": "display_data",
          "data": {
            "image/png": "[encoded data removed]",
            "text/plain": [
              "<Figure size 432x288 with 1 Axes>"
            ]
          },
          "metadata": {
            "tags": []
          }
        }
      ]
    },
    {
      "cell_type": "code",
      "metadata": {
        "execution": {
          "iopub.execute_input": "2021-03-05T04:24:58.947681Z",
          "iopub.status.busy": "2021-03-05T04:24:58.939612Z",
          "iopub.status.idle": "2021-03-05T04:24:59.076593Z",
          "shell.execute_reply": "2021-03-05T04:24:59.076043Z"
        },
        "papermill": {
          "duration": 0.193524,
          "end_time": "2021-03-05T04:24:59.076782",
          "exception": false,
          "start_time": "2021-03-05T04:24:58.883258",
          "status": "completed"
        },
        "tags": [],
        "id": "5OyTTI3OQsTJ",
        "outputId": "0acfa0a8-8d08-4283-9908-2816ae51c12c",
        "colab": {
          "base_uri": "https://localhost:8080/",
          "height": 305
        }
      },
      "source": [
        "sns.countplot(x=\"BP\", data=drugs, palette='Spectral')"
      ],
      "execution_count": 12,
      "outputs": [
        {
          "output_type": "execute_result",
          "data": {
            "text/plain": [
              "<matplotlib.axes._subplots.AxesSubplot at 0x7f8fcf2c2c10>"
            ]
          },
          "metadata": {
            "tags": []
          },
          "execution_count": 12
        },
        {
          "output_type": "display_data",
          "data": {
            "image/png": "[encoded data removed]",
            "text/plain": [
              "<Figure size 432x288 with 1 Axes>"
            ]
          },
          "metadata": {
            "tags": []
          }
        }
      ]
    },
    {
      "cell_type": "code",
      "metadata": {
        "execution": {
          "iopub.execute_input": "2021-03-05T04:24:59.167502Z",
          "iopub.status.busy": "2021-03-05T04:24:59.166474Z",
          "iopub.status.idle": "2021-03-05T04:24:59.272854Z",
          "shell.execute_reply": "2021-03-05T04:24:59.272213Z"
        },
        "papermill": {
          "duration": 0.163027,
          "end_time": "2021-03-05T04:24:59.272994",
          "exception": false,
          "start_time": "2021-03-05T04:24:59.109967",
          "status": "completed"
        },
        "tags": [],
        "id": "Z2pAFB6eQsTJ",
        "outputId": "b50d3441-2039-4f10-8bd2-5c5eb4713f04",
        "colab": {
          "base_uri": "https://localhost:8080/",
          "height": 303
        }
      },
      "source": [
        "sns.countplot(x=\"Cholesterol\", data=drugs, palette='Spectral')"
      ],
      "execution_count": 13,
      "outputs": [
        {
          "output_type": "execute_result",
          "data": {
            "text/plain": [
              "<matplotlib.axes._subplots.AxesSubplot at 0x7f8fcecf8110>"
            ]
          },
          "metadata": {
            "tags": []
          },
          "execution_count": 13
        },
        {
          "output_type": "display_data",
          "data": {
            "image/png": "[encoded data removed]",
            "text/plain": [
              "<Figure size 432x288 with 1 Axes>"
            ]
          },
          "metadata": {
            "tags": []
          }
        }
      ]
    },
    {
      "cell_type": "code",
      "metadata": {
        "execution": {
          "iopub.execute_input": "2021-03-05T04:24:59.368464Z",
          "iopub.status.busy": "2021-03-05T04:24:59.367427Z",
          "iopub.status.idle": "2021-03-05T04:24:59.511563Z",
          "shell.execute_reply": "2021-03-05T04:24:59.511080Z"
        },
        "papermill": {
          "duration": 0.203865,
          "end_time": "2021-03-05T04:24:59.511732",
          "exception": false,
          "start_time": "2021-03-05T04:24:59.307867",
          "status": "completed"
        },
        "tags": [],
        "id": "YLQSpstoQsTK",
        "outputId": "97ec74ca-230b-40dd-d884-9b28fe1f3eec",
        "colab": {
          "base_uri": "https://localhost:8080/",
          "height": 303
        }
      },
      "source": [
        "sns.countplot(x='Na_to_K_groups', data=drugs, palette='Spectral', order = ['5-10','10-15','15-20','20-25','30+'])"
      ],
      "execution_count": 14,
      "outputs": [
        {
          "output_type": "execute_result",
          "data": {
            "text/plain": [
              "<matplotlib.axes._subplots.AxesSubplot at 0x7f8fcecae6d0>"
            ]
          },
          "metadata": {
            "tags": []
          },
          "execution_count": 14
        },
        {
          "output_type": "display_data",
          "data": {
            "image/png": "[encoded data removed]",
            "text/plain": [
              "<Figure size 432x288 with 1 Axes>"
            ]
          },
          "metadata": {
            "tags": []
          }
        }
      ]
    },
    {
      "cell_type": "code",
      "metadata": {
        "execution": {
          "iopub.execute_input": "2021-03-05T04:24:59.607701Z",
          "iopub.status.busy": "2021-03-05T04:24:59.588735Z",
          "iopub.status.idle": "2021-03-05T04:24:59.734693Z",
          "shell.execute_reply": "2021-03-05T04:24:59.734024Z"
        },
        "papermill": {
          "duration": 0.187688,
          "end_time": "2021-03-05T04:24:59.734833",
          "exception": false,
          "start_time": "2021-03-05T04:24:59.547145",
          "status": "completed"
        },
        "tags": [],
        "id": "f-nsS-xcQsTK",
        "outputId": "0441ddfd-8520-4e34-dd34-b9137985213b",
        "colab": {
          "base_uri": "https://localhost:8080/",
          "height": 303
        }
      },
      "source": [
        "sns.countplot(x=\"Drug\", data=drugs, palette='Spectral')\n"
      ],
      "execution_count": 15,
      "outputs": [
        {
          "output_type": "execute_result",
          "data": {
            "text/plain": [
              "<matplotlib.axes._subplots.AxesSubplot at 0x7f8fcebf95d0>"
            ]
          },
          "metadata": {
            "tags": []
          },
          "execution_count": 15
        },
        {
          "output_type": "display_data",
          "data": {
            "image/png": "[encoded data removed]",
            "text/plain": [
              "<Figure size 432x288 with 1 Axes>"
            ]
          },
          "metadata": {
            "tags": []
          }
        }
      ]
    },
    {
      "cell_type": "markdown",
      "metadata": {
        "papermill": {
          "duration": 0.035673,
          "end_time": "2021-03-05T04:24:59.806195",
          "exception": false,
          "start_time": "2021-03-05T04:24:59.770522",
          "status": "completed"
        },
        "tags": [],
        "id": "6sqyr6XgQsTK"
      },
      "source": [
        "The drug frequencies are very unbalanced. For a classification problem it would be ideal to have similar numbers of the trget variable. Therefore we will use SMOTE(Synthetic Minority Oversampling Technique). SMOTE will oversample drugA, drugB, drugC and drugX to have the same numver of samples as DrugY. The systhetic aspect of this oversampling technique helps to avoid overfitting, as it's not just repeating existing data. First we need to split the dataset into training and testing sets and transform the data into dummies."
      ]
    },
    {
      "cell_type": "code",
      "metadata": {
        "execution": {
          "iopub.execute_input": "2021-03-05T04:24:59.883298Z",
          "iopub.status.busy": "2021-03-05T04:24:59.882410Z",
          "iopub.status.idle": "2021-03-05T04:24:59.885702Z",
          "shell.execute_reply": "2021-03-05T04:24:59.885189Z"
        },
        "papermill": {
          "duration": 0.043883,
          "end_time": "2021-03-05T04:24:59.885848",
          "exception": false,
          "start_time": "2021-03-05T04:24:59.841965",
          "status": "completed"
        },
        "tags": [],
        "id": "qsc_d3z_QsTK"
      },
      "source": [
        "x, y = drugs.values[:, :-1], drugs.values[:, -1]"
      ],
      "execution_count": 16,
      "outputs": []
    },
    {
      "cell_type": "code",
      "metadata": {
        "execution": {
          "iopub.execute_input": "2021-03-05T04:24:59.962622Z",
          "iopub.status.busy": "2021-03-05T04:24:59.961987Z",
          "iopub.status.idle": "2021-03-05T04:24:59.964957Z",
          "shell.execute_reply": "2021-03-05T04:24:59.964386Z"
        },
        "papermill": {
          "duration": 0.043154,
          "end_time": "2021-03-05T04:24:59.965096",
          "exception": false,
          "start_time": "2021-03-05T04:24:59.921942",
          "status": "completed"
        },
        "tags": [],
        "id": "3-Axhq4zQsTK"
      },
      "source": [
        "x_train, x_test, y_train, y_test = train_test_split(x,y, test_size=0.33)"
      ],
      "execution_count": 18,
      "outputs": []
    },
    {
      "cell_type": "code",
      "metadata": {
        "execution": {
          "iopub.execute_input": "2021-03-05T04:25:00.054259Z",
          "iopub.status.busy": "2021-03-05T04:25:00.051063Z",
          "iopub.status.idle": "2021-03-05T04:25:00.060996Z",
          "shell.execute_reply": "2021-03-05T04:25:00.061435Z"
        },
        "papermill": {
          "duration": 0.060422,
          "end_time": "2021-03-05T04:25:00.061626",
          "exception": false,
          "start_time": "2021-03-05T04:25:00.001204",
          "status": "completed"
        },
        "tags": [],
        "id": "FS4SP8BEQsTK"
      },
      "source": [
        "x_train = pd.get_dummies(pd.DataFrame(x_train))\n",
        "x_test = pd.get_dummies(pd.DataFrame(x_test))"
      ],
      "execution_count": 20,
      "outputs": []
    },
    {
      "cell_type": "markdown",
      "metadata": {
        "papermill": {
          "duration": 0.036114,
          "end_time": "2021-03-05T04:25:00.133834",
          "exception": false,
          "start_time": "2021-03-05T04:25:00.097720",
          "status": "completed"
        },
        "tags": [],
        "id": "yjSed8OLQsTL"
      },
      "source": [
        "We're only using SMOTE on the training data. The synthetic data shouldn't be so similar to the orginal data that it causes overfitting, but by only oversampling the training data, we will know it if does"
      ]
    },
    {
      "cell_type": "code",
      "metadata": {
        "execution": {
          "iopub.execute_input": "2021-03-05T04:25:00.217387Z",
          "iopub.status.busy": "2021-03-05T04:25:00.216323Z",
          "iopub.status.idle": "2021-03-05T04:25:00.225666Z",
          "shell.execute_reply": "2021-03-05T04:25:00.225149Z"
        },
        "papermill": {
          "duration": 0.05579,
          "end_time": "2021-03-05T04:25:00.225809",
          "exception": false,
          "start_time": "2021-03-05T04:25:00.170019",
          "status": "completed"
        },
        "tags": [],
        "id": "RxxjuqziQsTL",
        "outputId": "90a058be-b1bf-4ca1-cec8-27bed74d9aab",
        "colab": {
          "base_uri": "https://localhost:8080/"
        }
      },
      "source": [
        "x_train, y_train = SMOTE().fit_resample(x_train, y_train)"
      ],
      "execution_count": 21,
      "outputs": [
        {
          "output_type": "stream",
          "text": [
            "/usr/local/lib/python3.7/dist-packages/sklearn/utils/deprecation.py:87: FutureWarning: Function safe_indexing is deprecated; safe_indexing is deprecated in version 0.22 and will be removed in version 0.24.\n",
            "  warnings.warn(msg, category=FutureWarning)\n",
            "/usr/local/lib/python3.7/dist-packages/sklearn/utils/deprecation.py:87: FutureWarning: Function safe_indexing is deprecated; safe_indexing is deprecated in version 0.22 and will be removed in version 0.24.\n",
            "  warnings.warn(msg, category=FutureWarning)\n",
            "/usr/local/lib/python3.7/dist-packages/sklearn/utils/deprecation.py:87: FutureWarning: Function safe_indexing is deprecated; safe_indexing is deprecated in version 0.22 and will be removed in version 0.24.\n",
            "  warnings.warn(msg, category=FutureWarning)\n",
            "/usr/local/lib/python3.7/dist-packages/sklearn/utils/deprecation.py:87: FutureWarning: Function safe_indexing is deprecated; safe_indexing is deprecated in version 0.22 and will be removed in version 0.24.\n",
            "  warnings.warn(msg, category=FutureWarning)\n"
          ],
          "name": "stderr"
        }
      ]
    },
    {
      "cell_type": "code",
      "metadata": {
        "execution": {
          "iopub.execute_input": "2021-03-05T04:25:00.302160Z",
          "iopub.status.busy": "2021-03-05T04:25:00.301221Z",
          "iopub.status.idle": "2021-03-05T04:25:00.460112Z",
          "shell.execute_reply": "2021-03-05T04:25:00.459451Z"
        },
        "papermill": {
          "duration": 0.198139,
          "end_time": "2021-03-05T04:25:00.460249",
          "exception": false,
          "start_time": "2021-03-05T04:25:00.262110",
          "status": "completed"
        },
        "tags": [],
        "id": "Qw77iVdnQsTL",
        "outputId": "c1778479-db3b-4be5-9804-939529deddc5",
        "colab": {
          "base_uri": "https://localhost:8080/",
          "height": 303
        }
      },
      "source": [
        "ax = sns.countplot(x=y_train, data=drugs, palette='Spectral')\n",
        "ax.set(xlabel='Drug')"
      ],
      "execution_count": 22,
      "outputs": [
        {
          "output_type": "execute_result",
          "data": {
            "text/plain": [
              "[Text(0.5, 0, 'Drug')]"
            ]
          },
          "metadata": {
            "tags": []
          },
          "execution_count": 22
        },
        {
          "output_type": "display_data",
          "data": {
            "image/png": "[encoded data removed]",
            "text/plain": [
              "<Figure size 432x288 with 1 Axes>"
            ]
          },
          "metadata": {
            "tags": []
          }
        }
      ]
    },
    {
      "cell_type": "code",
      "metadata": {
        "execution": {
          "iopub.execute_input": "2021-03-05T04:25:00.541662Z",
          "iopub.status.busy": "2021-03-05T04:25:00.541014Z",
          "iopub.status.idle": "2021-03-05T04:25:00.544116Z",
          "shell.execute_reply": "2021-03-05T04:25:00.544576Z"
        },
        "papermill": {
          "duration": 0.04606,
          "end_time": "2021-03-05T04:25:00.544765",
          "exception": false,
          "start_time": "2021-03-05T04:25:00.498705",
          "status": "completed"
        },
        "tags": [],
        "id": "jtcJHBfMQsTL",
        "outputId": "d0c38799-2efc-4433-927f-66ef12b25e06",
        "colab": {
          "base_uri": "https://localhost:8080/"
        }
      },
      "source": [
        "print(\"ORIGINAL dataset:\", len(drugs), \"\\n EXTENDED dataset:\", len(y))"
      ],
      "execution_count": 23,
      "outputs": [
        {
          "output_type": "stream",
          "text": [
            "ORIGINAL dataset: 200 \n",
            " EXTENDED dataset: 200\n"
          ],
          "name": "stdout"
        }
      ]
    },
    {
      "cell_type": "markdown",
      "metadata": {
        "papermill": {
          "duration": 0.037431,
          "end_time": "2021-03-05T04:25:00.619844",
          "exception": false,
          "start_time": "2021-03-05T04:25:00.582413",
          "status": "completed"
        },
        "tags": [],
        "id": "-srTn3aGQsTL"
      },
      "source": [
        "Dataset has been extended by 255 "
      ]
    },
    {
      "cell_type": "markdown",
      "metadata": {
        "papermill": {
          "duration": 0.037178,
          "end_time": "2021-03-05T04:25:00.694563",
          "exception": false,
          "start_time": "2021-03-05T04:25:00.657385",
          "status": "completed"
        },
        "tags": [],
        "id": "ewrk7Bh4QsTL"
      },
      "source": [
        "# 4. Logistic Regression "
      ]
    },
    {
      "cell_type": "code",
      "metadata": {
        "execution": {
          "iopub.execute_input": "2021-03-05T04:25:00.782668Z",
          "iopub.status.busy": "2021-03-05T04:25:00.782029Z",
          "iopub.status.idle": "2021-03-05T04:25:01.269739Z",
          "shell.execute_reply": "2021-03-05T04:25:01.269151Z"
        },
        "papermill": {
          "duration": 0.537018,
          "end_time": "2021-03-05T04:25:01.269884",
          "exception": false,
          "start_time": "2021-03-05T04:25:00.732866",
          "status": "completed"
        },
        "tags": [],
        "id": "SuNXnG-jQsTL",
        "outputId": "dfb2b56c-0fbe-4b77-c8f7-72b4b77f1257",
        "colab": {
          "base_uri": "https://localhost:8080/"
        }
      },
      "source": [
        "log_reg = linear_model.LogisticRegression(max_iter = 5000)\n",
        "log_reg.fit(x_train, y_train)\n",
        "log_reg_acc = 100*log_reg.score(x_test, y_test)\n",
        "print('Logistic Regression Predictions: \\n', log_reg.predict(x_test), '\\n Accuracy:', log_reg_acc, '%')"
      ],
      "execution_count": 24,
      "outputs": [
        {
          "output_type": "stream",
          "text": [
            "Logistic Regression Predictions: \n",
            " ['drugX' 'DrugY' 'drugC' 'drugX' 'DrugY' 'DrugY' 'DrugY' 'DrugY' 'drugX'\n",
            " 'DrugY' 'drugX' 'drugX' 'drugX' 'DrugY' 'DrugY' 'DrugY' 'DrugY' 'drugC'\n",
            " 'drugX' 'drugA' 'DrugY' 'DrugY' 'drugX' 'drugB' 'drugX' 'DrugY' 'DrugY'\n",
            " 'DrugY' 'drugX' 'drugB' 'drugX' 'drugA' 'drugC' 'DrugY' 'DrugY' 'drugX'\n",
            " 'drugX' 'drugX' 'DrugY' 'DrugY' 'drugA' 'drugX' 'DrugY' 'drugB' 'DrugY'\n",
            " 'drugX' 'DrugY' 'drugX' 'DrugY' 'DrugY' 'drugX' 'DrugY' 'DrugY' 'drugX'\n",
            " 'DrugY' 'drugB' 'DrugY' 'DrugY' 'DrugY' 'drugX' 'drugX' 'drugC' 'DrugY'\n",
            " 'drugX' 'DrugY' 'DrugY'] \n",
            " Accuracy: 100.0 %\n"
          ],
          "name": "stdout"
        }
      ]
    },
    {
      "cell_type": "markdown",
      "metadata": {
        "papermill": {
          "duration": 0.037429,
          "end_time": "2021-03-05T04:25:01.346253",
          "exception": false,
          "start_time": "2021-03-05T04:25:01.308824",
          "status": "completed"
        },
        "tags": [],
        "id": "yzSMYIAlQsTM"
      },
      "source": [
        "# 5. Gaussian Naive Bayes "
      ]
    },
    {
      "cell_type": "code",
      "metadata": {
        "execution": {
          "iopub.execute_input": "2021-03-05T04:25:01.431316Z",
          "iopub.status.busy": "2021-03-05T04:25:01.430665Z",
          "iopub.status.idle": "2021-03-05T04:25:01.442063Z",
          "shell.execute_reply": "2021-03-05T04:25:01.441317Z"
        },
        "papermill": {
          "duration": 0.058156,
          "end_time": "2021-03-05T04:25:01.442245",
          "exception": false,
          "start_time": "2021-03-05T04:25:01.384089",
          "status": "completed"
        },
        "tags": [],
        "id": "LGCY8qefQsTM",
        "outputId": "3909733b-060d-4f3e-a426-4e3ce062ff14",
        "colab": {
          "base_uri": "https://localhost:8080/"
        }
      },
      "source": [
        "nb = naive_bayes.GaussianNB()\n",
        "nb.fit(x_train, y_train)\n",
        "nb_acc = 100*nb.score(x_test, y_test)\n",
        "print('Naive Bayes Predictions: \\n', nb.predict(x_test), '\\n Accuracy:', nb_acc, '%')\n"
      ],
      "execution_count": 26,
      "outputs": [
        {
          "output_type": "stream",
          "text": [
            "Naive Bayes Predictions: \n",
            " ['drugX' 'DrugY' 'drugC' 'drugX' 'DrugY' 'DrugY' 'DrugY' 'DrugY' 'drugX'\n",
            " 'DrugY' 'drugX' 'drugX' 'drugX' 'DrugY' 'DrugY' 'DrugY' 'DrugY' 'drugC'\n",
            " 'drugX' 'drugA' 'DrugY' 'DrugY' 'drugX' 'drugB' 'drugX' 'DrugY' 'DrugY'\n",
            " 'DrugY' 'drugX' 'drugB' 'drugX' 'drugA' 'drugC' 'DrugY' 'DrugY' 'drugX'\n",
            " 'drugX' 'drugX' 'DrugY' 'DrugY' 'drugA' 'drugX' 'DrugY' 'drugB' 'DrugY'\n",
            " 'drugX' 'DrugY' 'drugX' 'DrugY' 'DrugY' 'drugX' 'DrugY' 'DrugY' 'drugX'\n",
            " 'DrugY' 'drugB' 'DrugY' 'DrugY' 'DrugY' 'drugX' 'drugX' 'drugC' 'DrugY'\n",
            " 'drugX' 'DrugY' 'DrugY'] \n",
            " Accuracy: 100.0 %\n"
          ],
          "name": "stdout"
        }
      ]
    },
    {
      "cell_type": "markdown",
      "metadata": {
        "papermill": {
          "duration": 0.038349,
          "end_time": "2021-03-05T04:25:01.519980",
          "exception": false,
          "start_time": "2021-03-05T04:25:01.481631",
          "status": "completed"
        },
        "tags": [],
        "id": "9Kv9C_zfQsTM"
      },
      "source": [
        "# 6. K-Nearest Neighbours"
      ]
    },
    {
      "cell_type": "code",
      "metadata": {
        "execution": {
          "iopub.execute_input": "2021-03-05T04:25:01.607833Z",
          "iopub.status.busy": "2021-03-05T04:25:01.607168Z",
          "iopub.status.idle": "2021-03-05T04:25:01.620621Z",
          "shell.execute_reply": "2021-03-05T04:25:01.621169Z"
        },
        "papermill": {
          "duration": 0.061895,
          "end_time": "2021-03-05T04:25:01.621337",
          "exception": false,
          "start_time": "2021-03-05T04:25:01.559442",
          "status": "completed"
        },
        "tags": [],
        "id": "N-sLBPsiQsTM",
        "outputId": "67806dae-f540-407c-8e19-deff15e98909",
        "colab": {
          "base_uri": "https://localhost:8080/"
        }
      },
      "source": [
        "knn = neighbors.KNeighborsClassifier(n_neighbors=25)\n",
        "knn.fit(x_train, y_train)\n",
        "knn_acc = 100*knn.score(x_test, y_test)\n",
        "print('K-Nearest Neighbours Predictions: \\n', knn.predict(x_test), '\\n Accuracy:', knn_acc, '%')"
      ],
      "execution_count": 27,
      "outputs": [
        {
          "output_type": "stream",
          "text": [
            "K-Nearest Neighbours Predictions: \n",
            " ['drugX' 'DrugY' 'drugC' 'drugX' 'DrugY' 'DrugY' 'DrugY' 'DrugY' 'drugX'\n",
            " 'drugB' 'drugX' 'drugA' 'drugB' 'DrugY' 'DrugY' 'DrugY' 'DrugY' 'drugA'\n",
            " 'drugX' 'drugA' 'DrugY' 'DrugY' 'drugX' 'drugA' 'drugA' 'DrugY' 'DrugY'\n",
            " 'DrugY' 'drugB' 'DrugY' 'drugX' 'drugB' 'drugA' 'DrugY' 'DrugY' 'drugX'\n",
            " 'drugX' 'drugX' 'DrugY' 'DrugY' 'drugA' 'drugX' 'drugC' 'drugB' 'DrugY'\n",
            " 'DrugY' 'DrugY' 'drugA' 'DrugY' 'DrugY' 'drugX' 'DrugY' 'drugA' 'drugX'\n",
            " 'DrugY' 'drugA' 'DrugY' 'drugB' 'DrugY' 'drugX' 'drugX' 'drugC' 'DrugY'\n",
            " 'drugX' 'DrugY' 'DrugY'] \n",
            " Accuracy: 75.75757575757575 %\n"
          ],
          "name": "stdout"
        }
      ]
    },
    {
      "cell_type": "markdown",
      "metadata": {
        "papermill": {
          "duration": 0.038557,
          "end_time": "2021-03-05T04:25:01.699854",
          "exception": false,
          "start_time": "2021-03-05T04:25:01.661297",
          "status": "completed"
        },
        "tags": [],
        "id": "Bx3BzeqpQsTN"
      },
      "source": [
        "# 7. Support Vector Machine"
      ]
    },
    {
      "cell_type": "code",
      "metadata": {
        "execution": {
          "iopub.execute_input": "2021-03-05T04:25:01.787411Z",
          "iopub.status.busy": "2021-03-05T04:25:01.786384Z",
          "iopub.status.idle": "2021-03-05T04:25:01.813954Z",
          "shell.execute_reply": "2021-03-05T04:25:01.814479Z"
        },
        "papermill": {
          "duration": 0.075315,
          "end_time": "2021-03-05T04:25:01.814664",
          "exception": false,
          "start_time": "2021-03-05T04:25:01.739349",
          "status": "completed"
        },
        "tags": [],
        "id": "nfIa9Xk8QsTN",
        "outputId": "318aa18e-021f-4466-cc2e-caea62d05d36",
        "colab": {
          "base_uri": "https://localhost:8080/"
        }
      },
      "source": [
        "svm =svm.SVC(kernel='linear')\n",
        "svm.fit(x_train, y_train)\n",
        "svm_acc = 100*svm.score(x_test, y_test)\n",
        "print('SVM Predictions: \\n', svm.predict(x_test), '\\n Accuracy:', svm_acc, '%')"
      ],
      "execution_count": 28,
      "outputs": [
        {
          "output_type": "stream",
          "text": [
            "SVM Predictions: \n",
            " ['drugX' 'DrugY' 'drugC' 'drugX' 'DrugY' 'DrugY' 'DrugY' 'DrugY' 'drugX'\n",
            " 'DrugY' 'drugX' 'drugX' 'drugX' 'DrugY' 'DrugY' 'DrugY' 'DrugY' 'drugC'\n",
            " 'drugX' 'drugA' 'DrugY' 'DrugY' 'drugX' 'drugB' 'drugX' 'DrugY' 'DrugY'\n",
            " 'DrugY' 'drugX' 'drugB' 'drugX' 'drugA' 'drugC' 'DrugY' 'DrugY' 'drugX'\n",
            " 'drugX' 'drugX' 'DrugY' 'DrugY' 'drugA' 'drugX' 'DrugY' 'drugB' 'DrugY'\n",
            " 'drugX' 'DrugY' 'drugX' 'DrugY' 'DrugY' 'drugX' 'DrugY' 'DrugY' 'drugX'\n",
            " 'DrugY' 'drugB' 'DrugY' 'DrugY' 'DrugY' 'drugX' 'drugX' 'drugC' 'DrugY'\n",
            " 'drugX' 'DrugY' 'DrugY'] \n",
            " Accuracy: 100.0 %\n"
          ],
          "name": "stdout"
        }
      ]
    },
    {
      "cell_type": "markdown",
      "metadata": {
        "papermill": {
          "duration": 0.039895,
          "end_time": "2021-03-05T04:25:01.894819",
          "exception": false,
          "start_time": "2021-03-05T04:25:01.854924",
          "status": "completed"
        },
        "tags": [],
        "id": "DUN4I7WrQsTN"
      },
      "source": [
        "# 8. Summary"
      ]
    },
    {
      "cell_type": "code",
      "metadata": {
        "execution": {
          "iopub.execute_input": "2021-03-05T04:25:01.985261Z",
          "iopub.status.busy": "2021-03-05T04:25:01.984040Z",
          "iopub.status.idle": "2021-03-05T04:25:01.988852Z",
          "shell.execute_reply": "2021-03-05T04:25:01.988217Z"
        },
        "papermill": {
          "duration": 0.054413,
          "end_time": "2021-03-05T04:25:01.988990",
          "exception": false,
          "start_time": "2021-03-05T04:25:01.934577",
          "status": "completed"
        },
        "tags": [],
        "id": "KUpwZGL9QsTO",
        "outputId": "0c37dc5c-37e3-47c4-87c8-66d584c2b514",
        "colab": {
          "base_uri": "https://localhost:8080/",
          "height": 171
        }
      },
      "source": [
        "pd.DataFrame(data={'Model': ['Logistic Regression','Gaussian Naive Bayes', 'K_Nearest Neighbours', 'Support Vector Machine(SVM)'], 'Accuracy %':[log_reg_acc, nb_acc, knn_acc, svm_acc]})"
      ],
      "execution_count": 29,
      "outputs": [
        {
          "output_type": "execute_result",
          "data": {
            "text/html": [
              "<div>\n",
              "<style scoped>\n",
              "    .dataframe tbody tr th:only-of-type {\n",
              "        vertical-align: middle;\n",
              "    }\n",
              "\n",
              "    .dataframe tbody tr th {\n",
              "        vertical-align: top;\n",
              "    }\n",
              "\n",
              "    .dataframe thead th {\n",
              "        text-align: right;\n",
              "    }\n",
              "</style>\n",
              "<table border=\"1\" class=\"dataframe\">\n",
              "  <thead>\n",
              "    <tr style=\"text-align: right;\">\n",
              "      <th></th>\n",
              "      <th>Model</th>\n",
              "      <th>Accuracy %</th>\n",
              "    </tr>\n",
              "  </thead>\n",
              "  <tbody>\n",
              "    <tr>\n",
              "      <th>0</th>\n",
              "      <td>Logistic Regression</td>\n",
              "      <td>100.000000</td>\n",
              "    </tr>\n",
              "    <tr>\n",
              "      <th>1</th>\n",
              "      <td>Gaussian Naive Bayes</td>\n",
              "      <td>100.000000</td>\n",
              "    </tr>\n",
              "    <tr>\n",
              "      <th>2</th>\n",
              "      <td>K_Nearest Neighbours</td>\n",
              "      <td>75.757576</td>\n",
              "    </tr>\n",
              "    <tr>\n",
              "      <th>3</th>\n",
              "      <td>Support Vector Machine(SVM)</td>\n",
              "      <td>100.000000</td>\n",
              "    </tr>\n",
              "  </tbody>\n",
              "</table>\n",
              "</div>"
            ],
            "text/plain": [
              "                         Model  Accuracy %\n",
              "0          Logistic Regression  100.000000\n",
              "1         Gaussian Naive Bayes  100.000000\n",
              "2         K_Nearest Neighbours   75.757576\n",
              "3  Support Vector Machine(SVM)  100.000000"
            ]
          },
          "metadata": {
            "tags": []
          },
          "execution_count": 29
        }
      ]
    },
    {
      "cell_type": "markdown",
      "metadata": {
        "papermill": {
          "duration": 0.039924,
          "end_time": "2021-03-05T04:25:02.069499",
          "exception": false,
          "start_time": "2021-03-05T04:25:02.029575",
          "status": "completed"
        },
        "tags": [],
        "id": "San4en-sQsTO"
      },
      "source": [
        "# 9. Conclusion"
      ]
    },
    {
      "cell_type": "markdown",
      "metadata": {
        "papermill": {
          "duration": 0.039687,
          "end_time": "2021-03-05T04:25:02.149495",
          "exception": false,
          "start_time": "2021-03-05T04:25:02.109808",
          "status": "completed"
        },
        "tags": [],
        "id": "zZJFo3gQQsTO"
      },
      "source": [
        "Logistic Regression, Naive Bayes and SVM all successfully predicted 100% of the drug types that the patients should be assigned. K-Nearest Neighbours had a much lower success rate of only 77%. This makes sense as KNN is known as a 'Lazy Learner' meaning it doesn't actually 'learn' anything in the training period - it just stores training data. Nevertheless, the other models were successful!"
      ]
    },
    {
      "cell_type": "code",
      "metadata": {
        "execution": {
          "iopub.execute_input": "2021-03-05T04:25:02.236591Z",
          "iopub.status.busy": "2021-03-05T04:25:02.235927Z",
          "iopub.status.idle": "2021-03-05T04:25:02.246230Z",
          "shell.execute_reply": "2021-03-05T04:25:02.246755Z"
        },
        "papermill": {
          "duration": 0.056656,
          "end_time": "2021-03-05T04:25:02.246949",
          "exception": false,
          "start_time": "2021-03-05T04:25:02.190293",
          "status": "completed"
        },
        "tags": [],
        "id": "fQej0PBfQsTO"
      },
      "source": [
        "df1 = pd.read_csv('/content/drug200.csv')\n",
        "df1.to_csv('Drug Classification100',index = False)"
      ],
      "execution_count": 30,
      "outputs": []
    }
  ]
}