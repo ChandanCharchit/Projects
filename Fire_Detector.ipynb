{
  "nbformat": 4,
  "nbformat_minor": 0,
  "metadata": {
    "colab": {
      "name": "Fire Detector.ipynb",
      "provenance": [],
      "mount_file_id": "1zquoHJz-2NZZ6gvvbbDVylwGo4WkVVFY",
      "authorship_tag": "ABX9TyNSu0xH3uBmp4POSo9U2vrO",
      "include_colab_link": true
    },
    "kernelspec": {
      "name": "python3",
      "display_name": "Python 3"
    },
    "language_info": {
      "name": "python"
    },
    "accelerator": "GPU"
  },
  "cells": [
    {
      "cell_type": "markdown",
      "metadata": {
        "id": "view-in-github",
        "colab_type": "text"
      },
      "source": [
        "<a href=\"https://colab.research.google.com/github/ChandanCharchit/Projects/blob/main/Fire_Detector.ipynb\" target=\"_parent\"><img src=\"https://colab.research.google.com/assets/colab-badge.svg\" alt=\"Open In Colab\"/></a>"
      ]
    },
    {
      "cell_type": "code",
      "metadata": {
        "id": "7FK2pefbvr2z"
      },
      "source": [
        "import tensorflow as tf\n",
        "import numpy as np\n",
        "import cv2\n",
        "import PIL\n",
        "\n",
        "import matplotlib.pyplot as plt\n",
        "import pandas as pd\n",
        "import seaborn\n",
        "import os\n",
        "import matplotlib.image as mpimg\n",
        "%matplotlib inline\n",
        "import keras_preprocessing\n",
        "from keras_preprocessing import image\n",
        "from keras_preprocessing.image import ImageDataGenerator\n",
        "import shutil"
      ],
      "execution_count": 2,
      "outputs": []
    },
    {
      "cell_type": "code",
      "metadata": {
        "id": "WGPGemz7oRga"
      },
      "source": [
        "train_path='/content/drive/MyDrive/Datasets/Fire data/Train'\n",
        "val_path='/content/drive/MyDrive/Datasets/Fire data/Vali'\n",
        "test_path='/content/drive/MyDrive/Datasets/Fire data/Test'"
      ],
      "execution_count": 3,
      "outputs": []
    },
    {
      "cell_type": "code",
      "metadata": {
        "colab": {
          "base_uri": "https://localhost:8080/"
        },
        "id": "ACvNAykP0LZi",
        "outputId": "35c5ece8-db76-4f98-91ea-1f43af392c3c"
      },
      "source": [
        "!nvidia-smi"
      ],
      "execution_count": 4,
      "outputs": [
        {
          "output_type": "stream",
          "text": [
            "Sat Apr  3 12:43:12 2021       \n",
            "+-----------------------------------------------------------------------------+\n",
            "| NVIDIA-SMI 460.67       Driver Version: 460.32.03    CUDA Version: 11.2     |\n",
            "|-------------------------------+----------------------+----------------------+\n",
            "| GPU  Name        Persistence-M| Bus-Id        Disp.A | Volatile Uncorr. ECC |\n",
            "| Fan  Temp  Perf  Pwr:Usage/Cap|         Memory-Usage | GPU-Util  Compute M. |\n",
            "|                               |                      |               MIG M. |\n",
            "|===============================+======================+======================|\n",
            "|   0  Tesla T4            Off  | 00000000:00:04.0 Off |                    0 |\n",
            "| N/A   40C    P8     9W /  70W |      0MiB / 15109MiB |      0%      Default |\n",
            "|                               |                      |                  N/A |\n",
            "+-------------------------------+----------------------+----------------------+\n",
            "                                                                               \n",
            "+-----------------------------------------------------------------------------+\n",
            "| Processes:                                                                  |\n",
            "|  GPU   GI   CI        PID   Type   Process name                  GPU Memory |\n",
            "|        ID   ID                                                   Usage      |\n",
            "|=============================================================================|\n",
            "|  No running processes found                                                 |\n",
            "+-----------------------------------------------------------------------------+\n"
          ],
          "name": "stdout"
        }
      ]
    },
    {
      "cell_type": "code",
      "metadata": {
        "id": "ERC4Hg794uC3",
        "colab": {
          "base_uri": "https://localhost:8080/"
        },
        "outputId": "6c93d824-f0c0-4324-a2ad-60c73c6c19e7"
      },
      "source": [
        "training_datagen=ImageDataGenerator(rescale=1./255)\n",
        "\n",
        "validation_datagen=ImageDataGenerator(rescale=1./255)\n",
        "\n",
        "training_data=training_datagen.flow_from_directory(train_path,\n",
        "                                                   target_size=(227,227),\n",
        "                                                   class_mode='binary',\n",
        "                                                   batch_size=158)\n",
        "\n",
        "valid_data=validation_datagen.flow_from_directory(val_path,\n",
        "                                                  target_size=(227,227),\n",
        "                                                  class_mode='binary',\n",
        "                                                  batch_size=100)\n",
        "\n"
      ],
      "execution_count": 5,
      "outputs": [
        {
          "output_type": "stream",
          "text": [
            "Found 6004 images belonging to 2 classes.\n",
            "Found 2000 images belonging to 2 classes.\n"
          ],
          "name": "stdout"
        }
      ]
    },
    {
      "cell_type": "code",
      "metadata": {
        "colab": {
          "base_uri": "https://localhost:8080/"
        },
        "id": "ORk0JedZEC2X",
        "outputId": "66bf497b-1cf3-4379-9c1e-10ad6f26dade"
      },
      "source": [
        "training_data.next()[1]"
      ],
      "execution_count": 6,
      "outputs": [
        {
          "output_type": "execute_result",
          "data": {
            "text/plain": [
              "array([0., 1., 1., 0., 0., 1., 1., 1., 1., 0., 1., 0., 0., 1., 0., 0., 1.,\n",
              "       1., 1., 0., 1., 1., 1., 0., 1., 0., 0., 0., 1., 0., 0., 1., 1., 1.,\n",
              "       0., 0., 1., 0., 0., 0., 1., 0., 1., 1., 0., 1., 0., 0., 0., 1., 1.,\n",
              "       0., 0., 0., 1., 1., 0., 1., 0., 1., 0., 0., 0., 0., 0., 0., 0., 1.,\n",
              "       0., 0., 0., 0., 0., 0., 0., 0., 0., 0., 1., 0., 0., 1., 1., 0., 1.,\n",
              "       0., 1., 1., 0., 0., 1., 0., 1., 0., 0., 1., 1., 0., 1., 1., 1., 0.,\n",
              "       1., 1., 1., 1., 0., 1., 0., 1., 0., 0., 0., 1., 1., 1., 1., 1., 1.,\n",
              "       1., 1., 0., 0., 1., 1., 0., 1., 1., 0., 1., 1., 1., 1., 0., 0., 0.,\n",
              "       0., 1., 0., 0., 1., 0., 0., 1., 1., 1., 1., 0., 0., 0., 1., 1., 1.,\n",
              "       0., 1., 1., 1., 1.], dtype=float32)"
            ]
          },
          "metadata": {
            "tags": []
          },
          "execution_count": 6
        }
      ]
    },
    {
      "cell_type": "code",
      "metadata": {
        "id": "Ec5H0pSRqQ9p"
      },
      "source": [
        "from tensorflow.keras.optimizers import RMSprop"
      ],
      "execution_count": 7,
      "outputs": []
    },
    {
      "cell_type": "markdown",
      "metadata": {
        "id": "rwUTYObBwHZd"
      },
      "source": [
        "**Model**"
      ]
    },
    {
      "cell_type": "code",
      "metadata": {
        "colab": {
          "base_uri": "https://localhost:8080/"
        },
        "id": "WnqasuBUwG-_",
        "outputId": "e7f4ece7-b46d-43e3-c8d8-837f201f2248"
      },
      "source": [
        "model=tf.keras.models.Sequential([\n",
        "                                  tf.keras.layers.Conv2D(96, (11,11), strides=(4,4), activation='relu', input_shape=(227, 227, 3)),\n",
        "                                  tf.keras.layers.MaxPool2D(pool_size=(3,3), strides=(2,2)),\n",
        "                                  tf.keras.layers.Conv2D(256, (5,5), activation='relu'),\n",
        "                                  tf.keras.layers.MaxPool2D(pool_size=(3,3), strides=(2,2)),\n",
        "                                  tf.keras.layers.Conv2D(384, (5,5), activation='relu'),\n",
        "                                  tf.keras.layers.MaxPool2D(pool_size=(3,3), strides=(2,2)),\n",
        "                                  tf.keras.layers.Flatten(),\n",
        "                                  tf.keras.layers.Dropout(0.2),\n",
        "                                  tf.keras.layers.Dense(1024, activation='relu'),\n",
        "                                  tf.keras.layers.Dropout(0.25),\n",
        "                                  tf.keras.layers.Dense(128, activation='relu'),\n",
        "                                  tf.keras.layers.Dropout(0.2),\n",
        "                                  tf.keras.layers.Dense(1, activation='sigmoid')])\n",
        "\n",
        "model.compile(loss='binary_crossentropy',\n",
        "              optimizer=RMSprop(lr=0.001),\n",
        "              metrics=['acc'])\n",
        "\n",
        "model.summary()"
      ],
      "execution_count": 8,
      "outputs": [
        {
          "output_type": "stream",
          "text": [
            "Model: \"sequential\"\n",
            "_________________________________________________________________\n",
            "Layer (type)                 Output Shape              Param #   \n",
            "=================================================================\n",
            "conv2d (Conv2D)              (None, 55, 55, 96)        34944     \n",
            "_________________________________________________________________\n",
            "max_pooling2d (MaxPooling2D) (None, 27, 27, 96)        0         \n",
            "_________________________________________________________________\n",
            "conv2d_1 (Conv2D)            (None, 23, 23, 256)       614656    \n",
            "_________________________________________________________________\n",
            "max_pooling2d_1 (MaxPooling2 (None, 11, 11, 256)       0         \n",
            "_________________________________________________________________\n",
            "conv2d_2 (Conv2D)            (None, 7, 7, 384)         2457984   \n",
            "_________________________________________________________________\n",
            "max_pooling2d_2 (MaxPooling2 (None, 3, 3, 384)         0         \n",
            "_________________________________________________________________\n",
            "flatten (Flatten)            (None, 3456)              0         \n",
            "_________________________________________________________________\n",
            "dropout (Dropout)            (None, 3456)              0         \n",
            "_________________________________________________________________\n",
            "dense (Dense)                (None, 1024)              3539968   \n",
            "_________________________________________________________________\n",
            "dropout_1 (Dropout)          (None, 1024)              0         \n",
            "_________________________________________________________________\n",
            "dense_1 (Dense)              (None, 128)               131200    \n",
            "_________________________________________________________________\n",
            "dropout_2 (Dropout)          (None, 128)               0         \n",
            "_________________________________________________________________\n",
            "dense_2 (Dense)              (None, 1)                 129       \n",
            "=================================================================\n",
            "Total params: 6,778,881\n",
            "Trainable params: 6,778,881\n",
            "Non-trainable params: 0\n",
            "_________________________________________________________________\n"
          ],
          "name": "stdout"
        }
      ]
    },
    {
      "cell_type": "code",
      "metadata": {
        "colab": {
          "base_uri": "https://localhost:8080/"
        },
        "id": "UiSKEgME16WV",
        "outputId": "2068e696-e3bb-465b-d9ca-f0e430356b1e"
      },
      "source": [
        "history=model.fit(training_data,\n",
        "                  steps_per_epoch=38,\n",
        "                  epochs = 50,\n",
        "                  validation_data = valid_data,\n",
        "                  validation_steps=20\n",
        "                  )\n"
      ],
      "execution_count": 9,
      "outputs": [
        {
          "output_type": "stream",
          "text": [
            "Epoch 1/50\n",
            "38/38 [==============================] - 2296s 60s/step - loss: 6.4823 - acc: 0.5170 - val_loss: 0.6988 - val_acc: 0.3970\n",
            "Epoch 2/50\n",
            "38/38 [==============================] - 20s 533ms/step - loss: 0.7356 - acc: 0.5847 - val_loss: 0.6963 - val_acc: 0.4575\n",
            "Epoch 3/50\n",
            "38/38 [==============================] - 20s 539ms/step - loss: 0.8086 - acc: 0.5966 - val_loss: 0.7669 - val_acc: 0.5075\n",
            "Epoch 4/50\n",
            "38/38 [==============================] - 20s 534ms/step - loss: 0.8048 - acc: 0.6212 - val_loss: 0.8821 - val_acc: 0.4265\n",
            "Epoch 5/50\n",
            "38/38 [==============================] - 20s 532ms/step - loss: 0.6607 - acc: 0.6458 - val_loss: 0.6993 - val_acc: 0.6560\n",
            "Epoch 6/50\n",
            "38/38 [==============================] - 20s 529ms/step - loss: 0.8440 - acc: 0.7093 - val_loss: 0.5221 - val_acc: 0.7165\n",
            "Epoch 7/50\n",
            "38/38 [==============================] - 20s 530ms/step - loss: 0.4694 - acc: 0.7869 - val_loss: 0.4735 - val_acc: 0.7365\n",
            "Epoch 8/50\n",
            "38/38 [==============================] - 20s 530ms/step - loss: 0.5044 - acc: 0.7838 - val_loss: 0.6247 - val_acc: 0.6915\n",
            "Epoch 9/50\n",
            "38/38 [==============================] - 20s 531ms/step - loss: 0.4986 - acc: 0.7934 - val_loss: 0.3548 - val_acc: 0.8705\n",
            "Epoch 10/50\n",
            "38/38 [==============================] - 20s 530ms/step - loss: 0.4711 - acc: 0.8020 - val_loss: 0.4962 - val_acc: 0.8010\n",
            "Epoch 11/50\n",
            "38/38 [==============================] - 20s 530ms/step - loss: 0.5537 - acc: 0.7967 - val_loss: 0.3026 - val_acc: 0.8580\n",
            "Epoch 12/50\n",
            "38/38 [==============================] - 20s 525ms/step - loss: 0.4497 - acc: 0.8336 - val_loss: 0.3957 - val_acc: 0.8465\n",
            "Epoch 13/50\n",
            "38/38 [==============================] - 20s 530ms/step - loss: 0.4211 - acc: 0.8425 - val_loss: 0.6863 - val_acc: 0.7015\n",
            "Epoch 14/50\n",
            "38/38 [==============================] - 20s 530ms/step - loss: 0.4037 - acc: 0.8369 - val_loss: 0.3501 - val_acc: 0.8490\n",
            "Epoch 15/50\n",
            "38/38 [==============================] - 20s 531ms/step - loss: 0.3157 - acc: 0.8670 - val_loss: 0.4844 - val_acc: 0.8290\n",
            "Epoch 16/50\n",
            "38/38 [==============================] - 20s 529ms/step - loss: 0.2747 - acc: 0.8910 - val_loss: 0.8987 - val_acc: 0.5990\n",
            "Epoch 17/50\n",
            "38/38 [==============================] - 20s 530ms/step - loss: 0.3604 - acc: 0.8614 - val_loss: 0.3091 - val_acc: 0.8585\n",
            "Epoch 18/50\n",
            "38/38 [==============================] - 20s 529ms/step - loss: 0.2722 - acc: 0.8960 - val_loss: 0.2949 - val_acc: 0.8690\n",
            "Epoch 19/50\n",
            "38/38 [==============================] - 21s 542ms/step - loss: 0.2852 - acc: 0.8869 - val_loss: 0.3455 - val_acc: 0.8605\n",
            "Epoch 20/50\n",
            "38/38 [==============================] - 20s 532ms/step - loss: 0.2608 - acc: 0.9001 - val_loss: 0.3181 - val_acc: 0.8625\n",
            "Epoch 21/50\n",
            "38/38 [==============================] - 20s 531ms/step - loss: 0.2532 - acc: 0.8953 - val_loss: 0.6920 - val_acc: 0.8475\n",
            "Epoch 22/50\n",
            "38/38 [==============================] - 20s 528ms/step - loss: 0.3398 - acc: 0.8734 - val_loss: 0.4252 - val_acc: 0.8640\n",
            "Epoch 23/50\n",
            "38/38 [==============================] - 20s 531ms/step - loss: 0.2796 - acc: 0.8958 - val_loss: 0.2694 - val_acc: 0.9005\n",
            "Epoch 24/50\n",
            "38/38 [==============================] - 20s 530ms/step - loss: 0.2198 - acc: 0.9171 - val_loss: 0.5634 - val_acc: 0.8750\n",
            "Epoch 25/50\n",
            "38/38 [==============================] - 20s 529ms/step - loss: 0.2530 - acc: 0.8994 - val_loss: 0.4875 - val_acc: 0.8810\n",
            "Epoch 26/50\n",
            "38/38 [==============================] - 20s 525ms/step - loss: 0.2137 - acc: 0.9162 - val_loss: 0.3105 - val_acc: 0.8960\n",
            "Epoch 27/50\n",
            "38/38 [==============================] - 20s 532ms/step - loss: 0.1964 - acc: 0.9250 - val_loss: 0.3362 - val_acc: 0.8910\n",
            "Epoch 28/50\n",
            "38/38 [==============================] - 20s 530ms/step - loss: 0.1922 - acc: 0.9258 - val_loss: 0.2594 - val_acc: 0.8890\n",
            "Epoch 29/50\n",
            "38/38 [==============================] - 20s 529ms/step - loss: 0.1689 - acc: 0.9320 - val_loss: 0.3944 - val_acc: 0.8430\n",
            "Epoch 30/50\n",
            "38/38 [==============================] - 20s 529ms/step - loss: 0.2009 - acc: 0.9260 - val_loss: 0.5892 - val_acc: 0.9040\n",
            "Epoch 31/50\n",
            "38/38 [==============================] - 20s 524ms/step - loss: 0.1707 - acc: 0.9326 - val_loss: 0.4475 - val_acc: 0.8935\n",
            "Epoch 32/50\n",
            "38/38 [==============================] - 20s 530ms/step - loss: 0.2239 - acc: 0.9216 - val_loss: 0.7258 - val_acc: 0.8575\n",
            "Epoch 33/50\n",
            "38/38 [==============================] - 20s 527ms/step - loss: 0.1590 - acc: 0.9370 - val_loss: 0.4670 - val_acc: 0.7980\n",
            "Epoch 34/50\n",
            "38/38 [==============================] - 20s 533ms/step - loss: 0.1858 - acc: 0.9276 - val_loss: 0.3038 - val_acc: 0.9250\n",
            "Epoch 35/50\n",
            "38/38 [==============================] - 20s 529ms/step - loss: 0.2770 - acc: 0.9029 - val_loss: 0.5507 - val_acc: 0.8485\n",
            "Epoch 36/50\n",
            "38/38 [==============================] - 20s 527ms/step - loss: 0.1900 - acc: 0.9336 - val_loss: 0.2732 - val_acc: 0.9025\n",
            "Epoch 37/50\n",
            "38/38 [==============================] - 20s 525ms/step - loss: 0.1661 - acc: 0.9428 - val_loss: 0.7642 - val_acc: 0.8990\n",
            "Epoch 38/50\n",
            "38/38 [==============================] - 20s 527ms/step - loss: 0.1550 - acc: 0.9465 - val_loss: 0.4270 - val_acc: 0.8850\n",
            "Epoch 39/50\n",
            "38/38 [==============================] - 20s 526ms/step - loss: 0.1667 - acc: 0.9471 - val_loss: 0.3091 - val_acc: 0.9155\n",
            "Epoch 40/50\n",
            "38/38 [==============================] - 20s 531ms/step - loss: 0.1304 - acc: 0.9542 - val_loss: 0.3512 - val_acc: 0.8290\n",
            "Epoch 41/50\n",
            "38/38 [==============================] - 20s 526ms/step - loss: 0.1994 - acc: 0.9174 - val_loss: 0.5793 - val_acc: 0.9195\n",
            "Epoch 42/50\n",
            "38/38 [==============================] - 20s 528ms/step - loss: 0.2882 - acc: 0.9210 - val_loss: 0.8548 - val_acc: 0.9050\n",
            "Epoch 43/50\n",
            "38/38 [==============================] - 20s 529ms/step - loss: 0.1847 - acc: 0.9393 - val_loss: 0.4817 - val_acc: 0.9200\n",
            "Epoch 44/50\n",
            "38/38 [==============================] - 20s 527ms/step - loss: 0.1704 - acc: 0.9433 - val_loss: 0.6769 - val_acc: 0.8960\n",
            "Epoch 45/50\n",
            "38/38 [==============================] - 20s 532ms/step - loss: 0.1889 - acc: 0.9417 - val_loss: 0.2511 - val_acc: 0.9170\n",
            "Epoch 46/50\n",
            "38/38 [==============================] - 20s 523ms/step - loss: 0.0949 - acc: 0.9668 - val_loss: 0.3952 - val_acc: 0.9075\n",
            "Epoch 47/50\n",
            "38/38 [==============================] - 20s 526ms/step - loss: 0.1639 - acc: 0.9542 - val_loss: 1.1107 - val_acc: 0.8875\n",
            "Epoch 48/50\n",
            "38/38 [==============================] - 20s 530ms/step - loss: 0.1950 - acc: 0.9415 - val_loss: 0.3530 - val_acc: 0.9030\n",
            "Epoch 49/50\n",
            "38/38 [==============================] - 20s 530ms/step - loss: 0.1520 - acc: 0.9549 - val_loss: 0.6646 - val_acc: 0.7775\n",
            "Epoch 50/50\n",
            "38/38 [==============================] - 20s 532ms/step - loss: 0.1524 - acc: 0.9367 - val_loss: 0.5648 - val_acc: 0.9180\n"
          ],
          "name": "stdout"
        }
      ]
    },
    {
      "cell_type": "code",
      "metadata": {
        "id": "_L3PgVlPNiAz",
        "colab": {
          "base_uri": "https://localhost:8080/",
          "height": 580
        },
        "outputId": "43a14bd7-3159-4cd0-92c5-8de09b3b6641"
      },
      "source": [
        "acc = history.history['acc']\n",
        "val_acc = history.history['val_acc']\n",
        "loss = history.history['loss']\n",
        "val_loss = history.history['val_loss']\n",
        "\n",
        "epochs = range(len(acc))\n",
        "\n",
        "plt.plot(epochs, acc, 'g', label='Training accuracy')\n",
        "plt.plot(epochs, val_acc, 'b', label='Validation accuracy')\n",
        "plt.title('Training and validation accuracy')\n",
        "plt.legend(loc=0)\n",
        "plt.figure()\n",
        "plt.show()\n",
        "\n",
        "plt.plot(epochs, loss, 'r', label='Training loss')\n",
        "plt.plot(epochs, val_loss, 'orange', label='Validation loss')\n",
        "plt.title('Training and validation loss')\n",
        "\n",
        "plt.legend(loc=0)\n",
        "plt.figure()\n",
        "plt.show()"
      ],
      "execution_count": 13,
      "outputs": [
        {
          "output_type": "display_data",
          "data": {
            "image/png": "[encoded data removed]",
            "text/plain": [
              "<Figure size 432x288 with 1 Axes>"
            ]
          },
          "metadata": {
            "tags": [],
            "needs_background": "light"
          }
        },
        {
          "output_type": "display_data",
          "data": {
            "text/plain": [
              "<Figure size 432x288 with 0 Axes>"
            ]
          },
          "metadata": {
            "tags": []
          }
        },
        {
          "output_type": "display_data",
          "data": {
            "image/png": "[encoded data removed]",
            "text/plain": [
              "<Figure size 432x288 with 1 Axes>"
            ]
          },
          "metadata": {
            "tags": [],
            "needs_background": "light"
          }
        },
        {
          "output_type": "display_data",
          "data": {
            "text/plain": [
              "<Figure size 432x288 with 0 Axes>"
            ]
          },
          "metadata": {
            "tags": []
          }
        }
      ]
    },
    {
      "cell_type": "code",
      "metadata": {
        "id": "YeOCDSHvtVw0"
      },
      "source": [
        "from google.colab import files\n",
        "from keras.preprocessing import image"
      ],
      "execution_count": 11,
      "outputs": []
    },
    {
      "cell_type": "code",
      "metadata": {
        "colab": {
          "resources": {
            "http://localhost:8080/nbextensions/google.colab/files.js": {
              "data": "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",
              "ok": true,
              "headers": [
                [
                  "content-type",
                  "application/javascript"
                ]
              ],
              "status": 200,
              "status_text": ""
            }
          },
          "base_uri": "https://localhost:8080/",
          "height": 108
        },
        "id": "OH37ofjUtn7C",
        "outputId": "ea959360-d4fa-45dc-eb51-2c313eff8c1c"
      },
      "source": [
        "uploaded =files.upload()\n",
        "\n",
        "for fn in uploaded.keys():\n",
        "  #predicting images\n",
        "  path='/content/'+ fn\n",
        "  img=image.load_img(path, target_size=(227,227))\n",
        "  x=image.img_to_array(img)\n",
        "  x=np.expand_dims(x, axis=0)\n",
        "\n",
        "  images=np.vstack([x])\n",
        "  classes=model.predict(images, batch_size=10)\n",
        "  print(classes[0])\n",
        "  if classes[0]<0.5:\n",
        "    print(fn + 'has Fire in the image')\n",
        "  else:\n",
        "    print(fn + 'has no Fire in the image')\n",
        "  \n"
      ],
      "execution_count": 14,
      "outputs": [
        {
          "output_type": "display_data",
          "data": {
            "text/html": [
              "\n",
              "     <input type=\"file\" id=\"files-138f160b-623d-461a-9905-2f5860e92b82\" name=\"files[]\" multiple disabled\n",
              "        style=\"border:none\" />\n",
              "     <output id=\"result-138f160b-623d-461a-9905-2f5860e92b82\">\n",
              "      Upload widget is only available when the cell has been executed in the\n",
              "      current browser session. Please rerun this cell to enable.\n",
              "      </output>\n",
              "      <script src=\"/nbextensions/google.colab/files.js\"></script> "
            ],
            "text/plain": [
              "<IPython.core.display.HTML object>"
            ]
          },
          "metadata": {
            "tags": []
          }
        },
        {
          "output_type": "stream",
          "text": [
            "Saving DSCF4484.JPG to DSCF4484 (1).JPG\n",
            "[1.]\n",
            "DSCF4484.JPGhas no Fire in the image\n"
          ],
          "name": "stdout"
        }
      ]
    }
  ]
}